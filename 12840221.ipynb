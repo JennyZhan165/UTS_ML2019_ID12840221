{
  "nbformat": 4,
  "nbformat_minor": 0,
  "metadata": {
    "colab": {
      "name": "12840221.ipynb",
      "version": "0.3.2",
      "provenance": [],
      "include_colab_link": true
    },
    "kernelspec": {
      "name": "python3",
      "display_name": "Python 3"
    }
  },
  "cells": [
    {
      "cell_type": "markdown",
      "metadata": {
        "id": "view-in-github",
        "colab_type": "text"
      },
      "source": [
        "<a href=\"https://colab.research.google.com/github/JennyZhan165/UTS_ML2019_ID12840221/blob/master/12840221.ipynb\" target=\"_parent\"><img src=\"https://colab.research.google.com/assets/colab-badge.svg\" alt=\"Open In Colab\"/></a>"
      ]
    },
    {
      "cell_type": "code",
      "metadata": {
        "id": "UnM2QajBWRvO",
        "colab_type": "code",
        "colab": {}
      },
      "source": [
        "#Review report on \"PCA/LDA\"IMAGE PROCESSING"
      ],
      "execution_count": 0,
      "outputs": []
    },
    {
      "cell_type": "markdown",
      "metadata": {
        "id": "HtJaWRKTaxei",
        "colab_type": "text"
      },
      "source": [
        "#Review report on “PCA/ LDA IN IMAGE PROCESSING”\n"
      ]
    },
    {
      "cell_type": "markdown",
      "metadata": {
        "id": "wlsybPCkaLke",
        "colab_type": "text"
      },
      "source": [
        "##1.\tIntroduction \n",
        " \n",
        "The title of the paper is “Eigenfaces vs. Fisherfaces: Recognition Using Class Specific Linear Projection” written by three authors Peter N., João P. and David J. in 1997. They developed a new face recognition algorithm which is not sensitive to large variation in lighting and facial expression. Additionally, they discussed and compared four classification methods: Correlation, Eigenfaces, Linear Subspaces and Fisherfaces. However, how does face recognition algorithm works? It captures face images and compare the images stored in the database. If these images are matching, the individual is identified, otherwise, the individual is unidentified (Çarıkçı & Özen 2012). \n"
      ]
    },
    {
      "cell_type": "markdown",
      "metadata": {
        "id": "6xerKeXxZ3Gz",
        "colab_type": "text"
      },
      "source": [
        "\n",
        "##2.\tContent\n",
        " \n",
        "The paper talks about face recognition algorithms and compares few methods under different variations. In general, face recognition is not fully achieved in various complicated situations, especially under large variations. On the one hand, the problem is that face recognition algorithms can only handle limited pose or facial expression. On the other hand, illumination is a big challenge for face recognition because it creates shadow and will weak facial features. Fortunately, in order to solve these issues, authors represented one new face recognition algorithm to deal with large variations in lighting and facial expressions. They discussed and compared four classification techniques named Correlation, Eigenfaces, Linear Subspaces and Fisherfaces respectively. \n",
        "\n",
        "Correlation is the procedure that normalizes images to zero mean and unit variance which reduces the computation to keep a smaller area (Brunelli & Poggio 1993). The drawbacks of this method are more expensive and needs more amount of storage than others. As these disadvantages in correlation, a new technique used in face recognition now -- Principal components analysis (PCA), which used for reducing the dimensionality in computer vision (Çarıkçı & Özen 2012). Eigenfaces is a method that based on PCA technique. The disadvantage of Eigenfaces is that the scatter being maximized is due to be between-class scatter but even to within-class scatter which is useless for classification purpose. However, Correlation and Eigenfaces are lack of correction in lighting direction so Linear Subspaces algorithm was published. The authors mentioned in the paper if there is no noise or shadowing, Linear Subspaces will achieve no error classification but there are few reasons to decline this algorithm. First, because the self-shadowing of human faces, images doesn’t agree with this model. Secondly, this algorithm costs too much because we have to measure the subspace distance for each people. Finally, in terms of storage, Linear Subspace has to store three images for each person which costs more storage than other algorithms. The last method is Fisherfaces by using Principal Components Analysis (PCA) to avoid complicated scatter matrix and reduce the dimension of feature space. In the paper, also mentioned about another way to reduce the scatter matrix is preserving between-class scatter. After discussing and comparing these methods, authors conducted few experiments to evaluate these methods under different large variations.\n"
      ]
    },
    {
      "cell_type": "code",
      "metadata": {
        "id": "tfKdUR54Yi3y",
        "colab_type": "code",
        "colab": {}
      },
      "source": [
        ""
      ],
      "execution_count": 0,
      "outputs": []
    },
    {
      "cell_type": "markdown",
      "metadata": {
        "id": "YX82RDHZZ-C-",
        "colab_type": "text"
      },
      "source": [
        "##3.\tInnovation\n",
        "\n",
        "The time of the work is that people understand the problem was high error rates of face recognition algorithms under large variations, especially lighting and facial expression. A new face recognition algorithm which isn’t sensitive to large variation has been approved by scientises. The experiments of face recognition methods comparation are pretty popular in the field of this technology. In this article, the creative idea is that authors used Correlation and Eigenface methods, with two alternative methods (Linear Subspace and Fisherface) developed by themselves. The authors consider the pixel values in a sample image as the image space.\n",
        "\n",
        "Several experiments presented to compare those four face recognition algorithms under different variations. These comparisons between methods conducted by using two databases: Harvard database and a database constructed by Yale. The first experiment was conducted with variation in lighting under Harvard Robotics database. In general, the accuracy in face recognition is better if defined faces as Lambertian surface. While the lighting is frontal, all of the algorithms are performed good. Linear Subspace requires much more storages than Fisherface because it has to store three times of information for each person. Eigenface performance better under any lighting conditions when removing the first three principal components. \n",
        "\n",
        "In the following experiment, scientises changed the database to Yale. They divided 16 objects into xx groups, including female and male, wore glasses and without glasses. The first 10 subjects taken images under ambient lighting. In the second 3-5 subjects, they were required the face in neutral expression with Luxolamp in three positions. The last five images were under ambient lighting with different expressions. The results are all algorithms performed better on the full face. Eigenface requires more principal components and Linear Subspace performance worse than previous section because the images n. Finally, the data set contained 36 images in the last experiment of Yale database with half glasses. PCA can both classify images no matter with or without glasses. For Fisherface, it can easily identify glasses and even other characteristics in the face. The results of the experiments are that Fisherface is the best with no error in large variation, like lighting and expression.   \n",
        "\n",
        "In general, Fisherface algorithm is the best algorithm regarding of variation in lighting and facial expression meanwhile Linear Subspace suffers with facial expression. For Eigenface, the author said although remove three principal components, the error rates are still higher than the other methods in the experiment.\n"
      ]
    },
    {
      "cell_type": "markdown",
      "metadata": {
        "id": "Bd-TyZRPaZxk",
        "colab_type": "text"
      },
      "source": [
        "##4.\tTechnical Quality\n",
        "\n",
        "Overall, the technical development of this paper is high, and the results of the experiments are reliable. In this paper, scientists developed a new face recognition algorithm and compared four classification methods under two different databases in cross variations, which covers all the probabilities. There are few evidences showing this paper is academic paper with high technical quality.\n",
        "First, when scientises conducted the experiment in lighting, from the database, they used 330 images of 5 people and different directions of the lights which aims to enhance the quality. Secondly, they considered and classified people into two classes: wear glasses and without glasses, instead of selecting people to be individual and all the previous images about the subjects were removed before doing the experiment, in order to make the result unbiased. Except from that, considering about the specific hypothesis, standard databases don’t suitable for these experiments, scientises have to use Harvard Robotics database, and constructed a Yale database.\n"
      ]
    },
    {
      "cell_type": "markdown",
      "metadata": {
        "id": "D-NWbMGbadej",
        "colab_type": "text"
      },
      "source": [
        "##5.\tApplication and X-Factor\n",
        "\n",
        "Although scientises conducted few experiments under many large variations, such as illumination and facial expressions, they ignore some important effects like background, beard and mustache in faces when they are using comparing face recognition classifications. As Turk and Pentland mentioned in their paper, in order to deal with background effect, they put the image centred on the face by a two-dimensional window and reduce the background. This solution solves this effect without changing other variation. \n",
        "Additionally, when scientises compare these methods, other appropriate methods are also able to apply to detect algorithms, for instance, Local Binary Patterns Histograms (LBPH) and Deep Learning. In this paper, experiments are conducted few images in small database, in the further, if scientises can evaluate what is the most efficient methods in large database or how well do those methods perform. \n"
      ]
    },
    {
      "cell_type": "markdown",
      "metadata": {
        "id": "NyWv_TTlafXj",
        "colab_type": "text"
      },
      "source": [
        "##6.\tPresentation\n",
        "\n",
        "The structure of the article is pretty clear, and easy to read. There are four parts in the paper, introduction, methods, experimental results and conclusion. Each part includes context, subtitles, tables and graphs, especially when scientises comparing algorithms.  Apart from that, there are also many formulas showing in the paper to explain difficult theories. A long list of references is the evidence of accuracy and reliable about this paper. However, the paper could have been more attractive if the authors had provided more processing about how they’ve done with the experiments and use more methods in the further analysis.\n"
      ]
    },
    {
      "cell_type": "markdown",
      "metadata": {
        "id": "7DlM8bmgahZW",
        "colab_type": "text"
      },
      "source": [
        "##7.\tReferences\n",
        "1.\tÇarıkçı, M., Özen, F., 2012, ‘A Face Recognition System Based on Eigenfaces Method’\n",
        "2.\tBrunelli, R., Poggio, T., 1993, ‘Face Recognition: Features versus Templates’, vol. 15, no.10\n",
        "3.\tTurk, M., Pentland, A, 1991, ‘Eigenfaces for Recognition’, J. Cogni- tive Neuroscience, vol. 3, no. 1, \n"
      ]
    }
  ]
}